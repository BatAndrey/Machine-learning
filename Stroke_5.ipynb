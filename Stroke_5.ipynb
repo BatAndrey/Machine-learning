{
 "cells": [
  {
   "cell_type": "markdown",
   "id": "7738073d",
   "metadata": {},
   "source": [
    "# Задача прогнозирования вероятности инсульта у пациента на основе таких входных параметров, как пол, возраст, различные заболевания и статус курения.\n",
    "\n",
    "## Кратое описание болезни\n",
    "**Инсульт** – острое нарушение мозгового кровообращения (ОНМК), вызывающее поражение и гибель нервных клеток.\n",
    "Есть ряд патологий, присутствие которых существенно увеличивает угрозу возникновения ОНМК:\n",
    "* атеросклероз сосудов головного мозга;\n",
    "* мерцательная аритмия;\n",
    "* инфаркт миокарда;\n",
    "* высокое артериальное давление;\n",
    "* варикозная болезнь;\n",
    "* нарушение свертываемости крови;\n",
    "* сахарный диабет;\n",
    "* ожирение;\n",
    "* малоподвижный образ жизни;\n",
    "* курение, алкоголизм.\n",
    "\n",
    "Риск развития этого грозного заболевания возрастает уже после 30 лет.\n",
    "С ними связаны 10% всех летальных исходов (почти 6 млн. в год), что делает инсульт «причиной смерти №2» на планете."
   ]
  },
  {
   "cell_type": "markdown",
   "id": "2d680b5b",
   "metadata": {},
   "source": [
    "<h2> Описание входных данных</h2>\n",
    "\n",
    "* id - идентификатор;\n",
    "* gender - пол: «Мужской», «Женский»;\n",
    "* age - возраст;\n",
    "* hypertension - 0, если у пациента нет гипертонии, 1, если у пациента гипертония;\n",
    "* heart_disease - 0 если у пациента нет сердечных заболеваний, 1 если у пациента есть сердечные заболевания;\n",
    "* ever_married - женат/замужем или неженат/не замужем;\n",
    "* work_type - \n",
    "* Residence_type - вид проживания:\"В селе\" или \"В Городе\";\n",
    "* avg_glucose_level - средний уровень глюкозы в крови;\n",
    "* bmi - индекс массы тела;\n",
    "* smoking_status -  статус курения: \"ранее курил\", \"никогда не курил\", \"курит\" или «Неизвестно»*\n",
    "* stroke - 1, если у пациента был инсульт, или 0, если нет;"
   ]
  },
  {
   "cell_type": "code",
   "execution_count": 1,
   "id": "781375e2",
   "metadata": {},
   "outputs": [],
   "source": [
    "# my data set \"https://www.kaggle.com/datasets/fedesoriano/stroke-prediction-dataset?resource=download\""
   ]
  },
  {
   "cell_type": "code",
   "execution_count": 143,
   "id": "055ea3ac",
   "metadata": {},
   "outputs": [],
   "source": [
    "import pandas as pd\n",
    "import numpy as np\n",
    "from sklearn.model_selection import train_test_split"
   ]
  },
  {
   "cell_type": "code",
   "execution_count": 144,
   "id": "a6008360",
   "metadata": {},
   "outputs": [],
   "source": [
    "ds = pd.read_csv(\"healthcare-dataset-stroke-data.csv\")"
   ]
  },
  {
   "cell_type": "markdown",
   "id": "ea48c114",
   "metadata": {},
   "source": [
    "**Посмотрим информацию о наборе данных**"
   ]
  },
  {
   "cell_type": "code",
   "execution_count": 145,
   "id": "fd96fefd",
   "metadata": {},
   "outputs": [
    {
     "name": "stdout",
     "output_type": "stream",
     "text": [
      "<class 'pandas.core.frame.DataFrame'>\n",
      "RangeIndex: 5110 entries, 0 to 5109\n",
      "Data columns (total 12 columns):\n",
      " #   Column             Non-Null Count  Dtype  \n",
      "---  ------             --------------  -----  \n",
      " 0   id                 5110 non-null   int64  \n",
      " 1   gender             5110 non-null   object \n",
      " 2   age                5110 non-null   float64\n",
      " 3   hypertension       5110 non-null   int64  \n",
      " 4   heart_disease      5110 non-null   int64  \n",
      " 5   ever_married       5110 non-null   object \n",
      " 6   work_type          5110 non-null   object \n",
      " 7   Residence_type     5110 non-null   object \n",
      " 8   avg_glucose_level  5110 non-null   float64\n",
      " 9   bmi                4909 non-null   float64\n",
      " 10  smoking_status     5110 non-null   object \n",
      " 11  stroke             5110 non-null   int64  \n",
      "dtypes: float64(3), int64(4), object(5)\n",
      "memory usage: 479.2+ KB\n"
     ]
    },
    {
     "data": {
      "text/html": [
       "<div>\n",
       "<style scoped>\n",
       "    .dataframe tbody tr th:only-of-type {\n",
       "        vertical-align: middle;\n",
       "    }\n",
       "\n",
       "    .dataframe tbody tr th {\n",
       "        vertical-align: top;\n",
       "    }\n",
       "\n",
       "    .dataframe thead th {\n",
       "        text-align: right;\n",
       "    }\n",
       "</style>\n",
       "<table border=\"1\" class=\"dataframe\">\n",
       "  <thead>\n",
       "    <tr style=\"text-align: right;\">\n",
       "      <th></th>\n",
       "      <th>id</th>\n",
       "      <th>age</th>\n",
       "      <th>hypertension</th>\n",
       "      <th>heart_disease</th>\n",
       "      <th>avg_glucose_level</th>\n",
       "      <th>bmi</th>\n",
       "      <th>stroke</th>\n",
       "    </tr>\n",
       "  </thead>\n",
       "  <tbody>\n",
       "    <tr>\n",
       "      <th>count</th>\n",
       "      <td>5110.000000</td>\n",
       "      <td>5110.000000</td>\n",
       "      <td>5110.000000</td>\n",
       "      <td>5110.000000</td>\n",
       "      <td>5110.000000</td>\n",
       "      <td>4909.000000</td>\n",
       "      <td>5110.000000</td>\n",
       "    </tr>\n",
       "    <tr>\n",
       "      <th>mean</th>\n",
       "      <td>36517.829354</td>\n",
       "      <td>43.226614</td>\n",
       "      <td>0.097456</td>\n",
       "      <td>0.054012</td>\n",
       "      <td>106.147677</td>\n",
       "      <td>28.893237</td>\n",
       "      <td>0.048728</td>\n",
       "    </tr>\n",
       "    <tr>\n",
       "      <th>std</th>\n",
       "      <td>21161.721625</td>\n",
       "      <td>22.612647</td>\n",
       "      <td>0.296607</td>\n",
       "      <td>0.226063</td>\n",
       "      <td>45.283560</td>\n",
       "      <td>7.854067</td>\n",
       "      <td>0.215320</td>\n",
       "    </tr>\n",
       "    <tr>\n",
       "      <th>min</th>\n",
       "      <td>67.000000</td>\n",
       "      <td>0.080000</td>\n",
       "      <td>0.000000</td>\n",
       "      <td>0.000000</td>\n",
       "      <td>55.120000</td>\n",
       "      <td>10.300000</td>\n",
       "      <td>0.000000</td>\n",
       "    </tr>\n",
       "    <tr>\n",
       "      <th>25%</th>\n",
       "      <td>17741.250000</td>\n",
       "      <td>25.000000</td>\n",
       "      <td>0.000000</td>\n",
       "      <td>0.000000</td>\n",
       "      <td>77.245000</td>\n",
       "      <td>23.500000</td>\n",
       "      <td>0.000000</td>\n",
       "    </tr>\n",
       "    <tr>\n",
       "      <th>50%</th>\n",
       "      <td>36932.000000</td>\n",
       "      <td>45.000000</td>\n",
       "      <td>0.000000</td>\n",
       "      <td>0.000000</td>\n",
       "      <td>91.885000</td>\n",
       "      <td>28.100000</td>\n",
       "      <td>0.000000</td>\n",
       "    </tr>\n",
       "    <tr>\n",
       "      <th>75%</th>\n",
       "      <td>54682.000000</td>\n",
       "      <td>61.000000</td>\n",
       "      <td>0.000000</td>\n",
       "      <td>0.000000</td>\n",
       "      <td>114.090000</td>\n",
       "      <td>33.100000</td>\n",
       "      <td>0.000000</td>\n",
       "    </tr>\n",
       "    <tr>\n",
       "      <th>max</th>\n",
       "      <td>72940.000000</td>\n",
       "      <td>82.000000</td>\n",
       "      <td>1.000000</td>\n",
       "      <td>1.000000</td>\n",
       "      <td>271.740000</td>\n",
       "      <td>97.600000</td>\n",
       "      <td>1.000000</td>\n",
       "    </tr>\n",
       "  </tbody>\n",
       "</table>\n",
       "</div>"
      ],
      "text/plain": [
       "                 id          age  hypertension  heart_disease  \\\n",
       "count   5110.000000  5110.000000   5110.000000    5110.000000   \n",
       "mean   36517.829354    43.226614      0.097456       0.054012   \n",
       "std    21161.721625    22.612647      0.296607       0.226063   \n",
       "min       67.000000     0.080000      0.000000       0.000000   \n",
       "25%    17741.250000    25.000000      0.000000       0.000000   \n",
       "50%    36932.000000    45.000000      0.000000       0.000000   \n",
       "75%    54682.000000    61.000000      0.000000       0.000000   \n",
       "max    72940.000000    82.000000      1.000000       1.000000   \n",
       "\n",
       "       avg_glucose_level          bmi       stroke  \n",
       "count        5110.000000  4909.000000  5110.000000  \n",
       "mean          106.147677    28.893237     0.048728  \n",
       "std            45.283560     7.854067     0.215320  \n",
       "min            55.120000    10.300000     0.000000  \n",
       "25%            77.245000    23.500000     0.000000  \n",
       "50%            91.885000    28.100000     0.000000  \n",
       "75%           114.090000    33.100000     0.000000  \n",
       "max           271.740000    97.600000     1.000000  "
      ]
     },
     "execution_count": 145,
     "metadata": {},
     "output_type": "execute_result"
    }
   ],
   "source": [
    "ds.head(2)\n",
    "ds.info()\n",
    "ds.describe()"
   ]
  },
  {
   "cell_type": "markdown",
   "id": "01811965",
   "metadata": {},
   "source": [
    "**Посмотрим на пропуски**"
   ]
  },
  {
   "cell_type": "code",
   "execution_count": 146,
   "id": "90bbeacd",
   "metadata": {},
   "outputs": [
    {
     "data": {
      "text/plain": [
       "id                     0\n",
       "gender                 0\n",
       "age                    0\n",
       "hypertension           0\n",
       "heart_disease          0\n",
       "ever_married           0\n",
       "work_type              0\n",
       "Residence_type         0\n",
       "avg_glucose_level      0\n",
       "bmi                  201\n",
       "smoking_status         0\n",
       "stroke                 0\n",
       "dtype: int64"
      ]
     },
     "execution_count": 146,
     "metadata": {},
     "output_type": "execute_result"
    }
   ],
   "source": [
    "ds.isnull().sum()"
   ]
  },
  {
   "cell_type": "code",
   "execution_count": 147,
   "id": "7d2f9714",
   "metadata": {},
   "outputs": [
    {
     "data": {
      "text/plain": [
       "40"
      ]
     },
     "execution_count": 147,
     "metadata": {},
     "output_type": "execute_result"
    }
   ],
   "source": [
    "len(ds[(ds.bmi.isnull() == True) & (ds.stroke == 1)])"
   ]
  },
  {
   "cell_type": "markdown",
   "id": "3f11226a",
   "metadata": {},
   "source": [
    "По всем данным (есть пропуски - 201 в bmi) 40 из которых с инсультом. Необходимо обработать пропуски. Удалять их нельзя потому что и так мало объектов с инсультом, выборка несбалансирована."
   ]
  },
  {
   "cell_type": "markdown",
   "id": "d9d631f3",
   "metadata": {},
   "source": [
    "### Обработаем пропуски"
   ]
  },
  {
   "cell_type": "code",
   "execution_count": 148,
   "id": "0569ec29",
   "metadata": {},
   "outputs": [],
   "source": [
    "import random"
   ]
  },
  {
   "cell_type": "code",
   "execution_count": 149,
   "id": "3f205300",
   "metadata": {},
   "outputs": [],
   "source": [
    "ds.bmi.fillna(random.randint(24,33), inplace=True)"
   ]
  },
  {
   "cell_type": "markdown",
   "id": "4fab1229",
   "metadata": {},
   "source": [
    "**Обработаем признаки в логике накопления вредности для инсульта (1 - логически будет влиять на вероятность инсульта в сторону повышения вероятности)**\n",
    "\n",
    "Я считаю, что информация о работе в том виде в котором она представлена, является не информативной, то удалим столбик *work_type.*"
   ]
  },
  {
   "cell_type": "code",
   "execution_count": 150,
   "id": "12f42dd6",
   "metadata": {},
   "outputs": [],
   "source": [
    "ds.drop(['work_type'], axis=1, inplace=True)"
   ]
  },
  {
   "cell_type": "code",
   "execution_count": 151,
   "id": "db0da49f",
   "metadata": {},
   "outputs": [],
   "source": [
    "from sklearn.preprocessing import OrdinalEncoder"
   ]
  },
  {
   "cell_type": "code",
   "execution_count": 152,
   "id": "850fc373",
   "metadata": {},
   "outputs": [],
   "source": [
    "ord_enc = OrdinalEncoder()\n",
    "ds[['ever_married']] = ord_enc.fit_transform(ds[['ever_married']])\n",
    "cat_smoke = ['never smoked', 'Unknown', 'formerly smoked', 'smokes']\n",
    "cat_life = ['Rural', 'Urban']"
   ]
  },
  {
   "cell_type": "code",
   "execution_count": 153,
   "id": "b6cb281c",
   "metadata": {},
   "outputs": [],
   "source": [
    "ds[['smoking_status']] = OrdinalEncoder(categories=[cat_smoke]).fit_transform(ds[['smoking_status']])\n",
    "ds[['Residence_type']] = OrdinalEncoder(categories=[cat_life]).fit_transform(ds[['Residence_type']])"
   ]
  },
  {
   "cell_type": "markdown",
   "id": "c2d070f0",
   "metadata": {},
   "source": [
    "## Посмотрим отдельно мужчин и отдельно женщин\n",
    "\n",
    "Так как разнае организмы у мужчины и женщина должно быть разное влияние рисков"
   ]
  },
  {
   "cell_type": "code",
   "execution_count": 154,
   "id": "1484ca07",
   "metadata": {},
   "outputs": [
    {
     "name": "stderr",
     "output_type": "stream",
     "text": [
      "c:\\users\\днс\\python\\python37\\lib\\site-packages\\pandas\\core\\frame.py:4913: SettingWithCopyWarning: \n",
      "A value is trying to be set on a copy of a slice from a DataFrame\n",
      "\n",
      "See the caveats in the documentation: https://pandas.pydata.org/pandas-docs/stable/user_guide/indexing.html#returning-a-view-versus-a-copy\n",
      "  errors=errors,\n"
     ]
    }
   ],
   "source": [
    "ds_m = ds[ds['gender']=='Male']\n",
    "ds_m.drop(['id'], axis=1, inplace=True)\n",
    "ds_fm = ds[ds['gender']=='Female']\n",
    "ds_fm.drop(['id'], axis=1, inplace=True)"
   ]
  },
  {
   "cell_type": "code",
   "execution_count": 155,
   "id": "1f8d29a6",
   "metadata": {},
   "outputs": [
    {
     "data": {
      "text/plain": [
       "141"
      ]
     },
     "execution_count": 155,
     "metadata": {},
     "output_type": "execute_result"
    }
   ],
   "source": [
    "ds_m.stroke.sum()\n",
    "ds_fm.stroke.sum()"
   ]
  },
  {
   "cell_type": "markdown",
   "id": "58e3c4e8",
   "metadata": {},
   "source": [
    "В наборе данных получается - **108 мужчин из 2115** с инсультом и\n",
    "\n",
    "**141 женщина из 2994** с инсультом.\n",
    "Разделение будем считать примерно равнозначным"
   ]
  },
  {
   "cell_type": "code",
   "execution_count": 156,
   "id": "ba9011eb",
   "metadata": {},
   "outputs": [],
   "source": [
    "import matplotlib.pyplot as plt"
   ]
  },
  {
   "cell_type": "code",
   "execution_count": 157,
   "id": "9bd8dbb1",
   "metadata": {},
   "outputs": [
    {
     "data": {
      "text/plain": [
       "Text(0.5, 1.0, 'График мужчин avg_glucose_level от bmi')"
      ]
     },
     "execution_count": 157,
     "metadata": {},
     "output_type": "execute_result"
    },
    {
     "data": {
      "image/png": "[encoded data removed]",
      "text/plain": [
       "<Figure size 1080x360 with 3 Axes>"
      ]
     },
     "metadata": {
      "needs_background": "light"
     },
     "output_type": "display_data"
    }
   ],
   "source": [
    "plt.rcParams ['figure.figsize'] = [15, 5]\n",
    "plt.subplot (1, 3, 1)\n",
    "plt.scatter(ds_m['age'], ds_m['bmi'], alpha=0.8, marker='+')\n",
    "plt.xlabel('age')\n",
    "plt.ylabel(\"bmi\")\n",
    "plt.title (\"График мужчин age от bmi\")\n",
    "\n",
    "plt.subplot (1, 3, 2)\n",
    "plt.scatter(ds_m['age'], ds_m['avg_glucose_level'], alpha=0.8, marker='+')\n",
    "plt.xlabel('age')\n",
    "plt.ylabel(\"avg_glucose_level\")\n",
    "plt.title (\"График мужчин age от avg_glucose_level\")\n",
    "\n",
    "plt.subplot (1, 3, 3)\n",
    "plt.scatter(ds_m['avg_glucose_level'], ds_m['bmi'], alpha=0.8, marker='+')\n",
    "plt.xlabel('avg_glucose_level')\n",
    "plt.ylabel(\"bmi\")\n",
    "plt.title (\"График мужчин avg_glucose_level от bmi\")"
   ]
  },
  {
   "cell_type": "code",
   "execution_count": 158,
   "id": "0cf2f4f1",
   "metadata": {},
   "outputs": [
    {
     "data": {
      "text/plain": [
       "Text(0.5, 1.0, 'График женщин avg_glucose_level от bmi')"
      ]
     },
     "execution_count": 158,
     "metadata": {},
     "output_type": "execute_result"
    },
    {
     "data": {
      "image/png": "[encoded data removed]",
      "text/plain": [
       "<Figure size 1080x360 with 3 Axes>"
      ]
     },
     "metadata": {
      "needs_background": "light"
     },
     "output_type": "display_data"
    }
   ],
   "source": [
    "plt.rcParams ['figure.figsize'] = [15, 5]\n",
    "plt.subplot (1, 3, 1)\n",
    "plt.scatter(ds_fm['age'], ds_fm['bmi'], alpha=0.9, color='pink', marker='+')\n",
    "plt.xlabel('age')\n",
    "plt.ylabel(\"bmi\")\n",
    "plt.title (\"График женщин age от bmi\")\n",
    "\n",
    "plt.subplot (1, 3, 2)\n",
    "plt.scatter(ds_fm['age'], ds_fm['avg_glucose_level'], alpha=0.9, color='pink', marker='+')\n",
    "plt.xlabel('age')\n",
    "plt.ylabel(\"avg_glucose_level\")\n",
    "plt.title (\"График женщин age от avg_glucose_level\")\n",
    "\n",
    "plt.subplot (1, 3, 3)\n",
    "plt.scatter(ds_fm['avg_glucose_level'], ds_fm['bmi'], alpha=0.9, color='pink', marker='+')\n",
    "plt.xlabel('avg_glucose_level')\n",
    "plt.ylabel(\"bmi\")\n",
    "plt.title (\"График женщин avg_glucose_level от bmi\")"
   ]
  },
  {
   "cell_type": "code",
   "execution_count": 159,
   "id": "85a94a6d",
   "metadata": {},
   "outputs": [
    {
     "data": {
      "text/plain": [
       "Text(0.5, 1.0, 'Гистограма мужчин bmi')"
      ]
     },
     "execution_count": 159,
     "metadata": {},
     "output_type": "execute_result"
    },
    {
     "data": {
      "image/png": "[encoded data removed]",
      "text/plain": [
       "<Figure size 1080x360 with 3 Axes>"
      ]
     },
     "metadata": {
      "needs_background": "light"
     },
     "output_type": "display_data"
    }
   ],
   "source": [
    "plt.subplot (1, 3, 1)\n",
    "plt.hist(ds_m['age'], bins=25)\n",
    "plt.title (\"Гистограма мужчин age\")\n",
    "plt.xlabel('age')\n",
    "plt.ylabel(\"number\")\n",
    "\n",
    "plt.subplot (1, 3, 2)\n",
    "plt.hist(ds_m['avg_glucose_level'], bins=25)\n",
    "plt.xlabel('avg_glucose_level')\n",
    "plt.ylabel(\"number\")\n",
    "plt.title (\"Гистограма мужчин avg_glucose_level\")\n",
    "\n",
    "plt.subplot (1, 3, 3)\n",
    "plt.hist(ds_m['bmi'], bins=25)\n",
    "plt.xlabel('bmi')\n",
    "plt.ylabel(\"number\")\n",
    "plt.title (\"Гистограма мужчин bmi\")"
   ]
  },
  {
   "cell_type": "code",
   "execution_count": 160,
   "id": "8ce16ee9",
   "metadata": {},
   "outputs": [
    {
     "data": {
      "text/plain": [
       "Text(0.5, 1.0, 'Гистограма женщин bmi')"
      ]
     },
     "execution_count": 160,
     "metadata": {},
     "output_type": "execute_result"
    },
    {
     "data": {
      "image/png": "[encoded data removed]",
      "text/plain": [
       "<Figure size 1080x360 with 3 Axes>"
      ]
     },
     "metadata": {
      "needs_background": "light"
     },
     "output_type": "display_data"
    }
   ],
   "source": [
    "plt.subplot (1, 3, 1)\n",
    "plt.hist(ds_fm['age'], bins=25, color='pink')\n",
    "plt.title (\"Гистограма женщин age\")\n",
    "plt.xlabel('age')\n",
    "plt.ylabel(\"number\")\n",
    "\n",
    "plt.subplot (1, 3, 2)\n",
    "plt.hist(ds_fm['avg_glucose_level'], bins=25, color='pink')\n",
    "plt.xlabel('avg_glucose_level')\n",
    "plt.ylabel(\"number\")\n",
    "plt.title (\"Гистограма женщин avg_glucose_level\")\n",
    "\n",
    "plt.subplot (1, 3, 3)\n",
    "plt.hist(ds_fm['bmi'], bins=25, color='pink')\n",
    "plt.xlabel('bmi')\n",
    "plt.ylabel(\"number\")\n",
    "plt.title (\"Гистограма женщин bmi\")"
   ]
  },
  {
   "cell_type": "markdown",
   "id": "d88bacde",
   "metadata": {},
   "source": [
    "Так как визуально можно отметить, что графики мужчин и женщин очень похожи (за исключением возраста), то такой признак как **gender не будем учитывать**."
   ]
  },
  {
   "cell_type": "code",
   "execution_count": 161,
   "id": "4caf9a47",
   "metadata": {},
   "outputs": [],
   "source": [
    "ds.drop(['gender', 'id'], axis=1, inplace=True)"
   ]
  },
  {
   "cell_type": "markdown",
   "id": "42d97679",
   "metadata": {},
   "source": [
    "Так как риск развития этого заболевания возрастает после 30 лет, то я считаю, что можно удалить объекты с возрастом до 30 лет"
   ]
  },
  {
   "cell_type": "code",
   "execution_count": 162,
   "id": "de438f68",
   "metadata": {},
   "outputs": [
    {
     "data": {
      "text/plain": [
       "Text(0.5, 1.0, 'График женщин age от stroke')"
      ]
     },
     "execution_count": 162,
     "metadata": {},
     "output_type": "execute_result"
    },
    {
     "data": {
      "image/png": "[encoded data removed]",
      "text/plain": [
       "<Figure size 1080x360 with 2 Axes>"
      ]
     },
     "metadata": {
      "needs_background": "light"
     },
     "output_type": "display_data"
    }
   ],
   "source": [
    "plt.subplot (1, 2, 1)\n",
    "plt.scatter(ds_m['age'], ds_m['stroke'], alpha=0.8, marker='+')\n",
    "plt.vlines(30, ymin=0, ymax=1, color = 'r')\n",
    "plt.xlabel('age')\n",
    "plt.ylabel(\"stroke\")\n",
    "plt.title (\"График мужчин age от stroke\")\n",
    "\n",
    "plt.subplot (1, 2, 2)\n",
    "plt.scatter(ds_fm['age'], ds_fm['stroke'], alpha=0.8, marker='+')\n",
    "plt.vlines(30, ymin=0, ymax=1, color = 'r')\n",
    "plt.title (\"График женщин age от stroke\")"
   ]
  },
  {
   "cell_type": "code",
   "execution_count": 163,
   "id": "6d16b737",
   "metadata": {},
   "outputs": [],
   "source": [
    "ds = ds[(ds.age >= 35)]"
   ]
  },
  {
   "cell_type": "markdown",
   "id": "bb0b3afe",
   "metadata": {},
   "source": [
    "**Сконструируем новый признак как сумму признаков кроме *avg_glucose_level* и *bmi***"
   ]
  },
  {
   "cell_type": "code",
   "execution_count": 164,
   "id": "fb528dc9",
   "metadata": {},
   "outputs": [],
   "source": [
    "ds['f_sum'] = ds.apply(lambda i: i.age + i.hypertension + i.heart_disease + i.ever_married + i.Residence_type + i.smoking_status, axis=1)"
   ]
  },
  {
   "cell_type": "code",
   "execution_count": 165,
   "id": "dc3b7d5e",
   "metadata": {},
   "outputs": [],
   "source": [
    "ds.drop(['age', 'hypertension', 'heart_disease', 'ever_married', 'Residence_type', 'smoking_status'], axis=1, inplace=True)"
   ]
  },
  {
   "cell_type": "code",
   "execution_count": 166,
   "id": "fb7ac870",
   "metadata": {},
   "outputs": [
    {
     "data": {
      "text/html": [
       "<div>\n",
       "<style scoped>\n",
       "    .dataframe tbody tr th:only-of-type {\n",
       "        vertical-align: middle;\n",
       "    }\n",
       "\n",
       "    .dataframe tbody tr th {\n",
       "        vertical-align: top;\n",
       "    }\n",
       "\n",
       "    .dataframe thead th {\n",
       "        text-align: right;\n",
       "    }\n",
       "</style>\n",
       "<table border=\"1\" class=\"dataframe\">\n",
       "  <thead>\n",
       "    <tr style=\"text-align: right;\">\n",
       "      <th></th>\n",
       "      <th>avg_glucose_level</th>\n",
       "      <th>bmi</th>\n",
       "      <th>stroke</th>\n",
       "      <th>f_sum</th>\n",
       "    </tr>\n",
       "  </thead>\n",
       "  <tbody>\n",
       "    <tr>\n",
       "      <th>avg_glucose_level</th>\n",
       "      <td>1.000000</td>\n",
       "      <td>0.150417</td>\n",
       "      <td>0.113467</td>\n",
       "      <td>0.172519</td>\n",
       "    </tr>\n",
       "    <tr>\n",
       "      <th>bmi</th>\n",
       "      <td>0.150417</td>\n",
       "      <td>1.000000</td>\n",
       "      <td>-0.037032</td>\n",
       "      <td>-0.123195</td>\n",
       "    </tr>\n",
       "    <tr>\n",
       "      <th>stroke</th>\n",
       "      <td>0.113467</td>\n",
       "      <td>-0.037032</td>\n",
       "      <td>1.000000</td>\n",
       "      <td>0.234226</td>\n",
       "    </tr>\n",
       "    <tr>\n",
       "      <th>f_sum</th>\n",
       "      <td>0.172519</td>\n",
       "      <td>-0.123195</td>\n",
       "      <td>0.234226</td>\n",
       "      <td>1.000000</td>\n",
       "    </tr>\n",
       "  </tbody>\n",
       "</table>\n",
       "</div>"
      ],
      "text/plain": [
       "                   avg_glucose_level       bmi    stroke     f_sum\n",
       "avg_glucose_level           1.000000  0.150417  0.113467  0.172519\n",
       "bmi                         0.150417  1.000000 -0.037032 -0.123195\n",
       "stroke                      0.113467 -0.037032  1.000000  0.234226\n",
       "f_sum                       0.172519 -0.123195  0.234226  1.000000"
      ]
     },
     "execution_count": 166,
     "metadata": {},
     "output_type": "execute_result"
    }
   ],
   "source": [
    "ds.corr()"
   ]
  },
  {
   "cell_type": "code",
   "execution_count": 169,
   "id": "949982c5",
   "metadata": {},
   "outputs": [
    {
     "data": {
      "text/html": [
       "<div>\n",
       "<style scoped>\n",
       "    .dataframe tbody tr th:only-of-type {\n",
       "        vertical-align: middle;\n",
       "    }\n",
       "\n",
       "    .dataframe tbody tr th {\n",
       "        vertical-align: top;\n",
       "    }\n",
       "\n",
       "    .dataframe thead th {\n",
       "        text-align: right;\n",
       "    }\n",
       "</style>\n",
       "<table border=\"1\" class=\"dataframe\">\n",
       "  <thead>\n",
       "    <tr style=\"text-align: right;\">\n",
       "      <th></th>\n",
       "      <th>avg_glucose_level</th>\n",
       "      <th>bmi</th>\n",
       "      <th>stroke</th>\n",
       "      <th>f_sum</th>\n",
       "    </tr>\n",
       "  </thead>\n",
       "  <tbody>\n",
       "    <tr>\n",
       "      <th>0</th>\n",
       "      <td>228.69</td>\n",
       "      <td>36.6</td>\n",
       "      <td>1</td>\n",
       "      <td>72.0</td>\n",
       "    </tr>\n",
       "    <tr>\n",
       "      <th>1</th>\n",
       "      <td>202.21</td>\n",
       "      <td>26.0</td>\n",
       "      <td>1</td>\n",
       "      <td>62.0</td>\n",
       "    </tr>\n",
       "    <tr>\n",
       "      <th>2</th>\n",
       "      <td>105.92</td>\n",
       "      <td>32.5</td>\n",
       "      <td>1</td>\n",
       "      <td>82.0</td>\n",
       "    </tr>\n",
       "    <tr>\n",
       "      <th>3</th>\n",
       "      <td>171.23</td>\n",
       "      <td>34.4</td>\n",
       "      <td>1</td>\n",
       "      <td>54.0</td>\n",
       "    </tr>\n",
       "    <tr>\n",
       "      <th>4</th>\n",
       "      <td>174.12</td>\n",
       "      <td>24.0</td>\n",
       "      <td>1</td>\n",
       "      <td>81.0</td>\n",
       "    </tr>\n",
       "    <tr>\n",
       "      <th>...</th>\n",
       "      <td>...</td>\n",
       "      <td>...</td>\n",
       "      <td>...</td>\n",
       "      <td>...</td>\n",
       "    </tr>\n",
       "    <tr>\n",
       "      <th>5105</th>\n",
       "      <td>83.75</td>\n",
       "      <td>26.0</td>\n",
       "      <td>0</td>\n",
       "      <td>83.0</td>\n",
       "    </tr>\n",
       "    <tr>\n",
       "      <th>5106</th>\n",
       "      <td>125.20</td>\n",
       "      <td>40.0</td>\n",
       "      <td>0</td>\n",
       "      <td>83.0</td>\n",
       "    </tr>\n",
       "    <tr>\n",
       "      <th>5107</th>\n",
       "      <td>82.99</td>\n",
       "      <td>30.6</td>\n",
       "      <td>0</td>\n",
       "      <td>36.0</td>\n",
       "    </tr>\n",
       "    <tr>\n",
       "      <th>5108</th>\n",
       "      <td>166.29</td>\n",
       "      <td>25.6</td>\n",
       "      <td>0</td>\n",
       "      <td>54.0</td>\n",
       "    </tr>\n",
       "    <tr>\n",
       "      <th>5109</th>\n",
       "      <td>85.28</td>\n",
       "      <td>26.2</td>\n",
       "      <td>0</td>\n",
       "      <td>47.0</td>\n",
       "    </tr>\n",
       "  </tbody>\n",
       "</table>\n",
       "<p>3265 rows × 4 columns</p>\n",
       "</div>"
      ],
      "text/plain": [
       "      avg_glucose_level   bmi  stroke  f_sum\n",
       "0                228.69  36.6       1   72.0\n",
       "1                202.21  26.0       1   62.0\n",
       "2                105.92  32.5       1   82.0\n",
       "3                171.23  34.4       1   54.0\n",
       "4                174.12  24.0       1   81.0\n",
       "...                 ...   ...     ...    ...\n",
       "5105              83.75  26.0       0   83.0\n",
       "5106             125.20  40.0       0   83.0\n",
       "5107              82.99  30.6       0   36.0\n",
       "5108             166.29  25.6       0   54.0\n",
       "5109              85.28  26.2       0   47.0\n",
       "\n",
       "[3265 rows x 4 columns]"
      ]
     },
     "execution_count": 169,
     "metadata": {},
     "output_type": "execute_result"
    }
   ],
   "source": [
    "ds"
   ]
  },
  {
   "cell_type": "code",
   "execution_count": 170,
   "id": "54a9cce6",
   "metadata": {},
   "outputs": [],
   "source": [
    "y = ds['stroke']\n",
    "X = ds.drop(['stroke'], axis=1)\n",
    "X_train, X_test, y_train, y_test = train_test_split(X, y, train_size=3000, test_size=265, random_state=12)"
   ]
  },
  {
   "cell_type": "markdown",
   "id": "37f535f7",
   "metadata": {},
   "source": [
    "**Стандартизируем данные**"
   ]
  },
  {
   "cell_type": "code",
   "execution_count": 171,
   "id": "83635cce",
   "metadata": {},
   "outputs": [],
   "source": [
    "from sklearn.preprocessing import StandardScaler"
   ]
  },
  {
   "cell_type": "code",
   "execution_count": 172,
   "id": "24b88d6b",
   "metadata": {},
   "outputs": [],
   "source": [
    "scaler = StandardScaler()"
   ]
  },
  {
   "cell_type": "code",
   "execution_count": 173,
   "id": "a4385708",
   "metadata": {},
   "outputs": [],
   "source": [
    "X_train_s = scaler.fit_transform(X_train)\n",
    "X_test_s = scaler.fit_transform(X_test)"
   ]
  },
  {
   "cell_type": "markdown",
   "id": "188763a7",
   "metadata": {},
   "source": [
    "**Проведем нормальзацию**"
   ]
  },
  {
   "cell_type": "code",
   "execution_count": 176,
   "id": "098ea996",
   "metadata": {},
   "outputs": [],
   "source": [
    "from sklearn.preprocessing import Normalizer"
   ]
  },
  {
   "cell_type": "code",
   "execution_count": 177,
   "id": "c71edda0",
   "metadata": {},
   "outputs": [],
   "source": [
    "transformer_X_train_s = Normalizer().fit_transform(X_train_s)\n",
    "transformer_X_test_s = Normalizer().fit_transform(X_test_s)"
   ]
  },
  {
   "cell_type": "markdown",
   "id": "f8b86e06",
   "metadata": {},
   "source": [
    "## Пострим просутю модель классификации - логистическую регрессию"
   ]
  },
  {
   "cell_type": "code",
   "execution_count": 184,
   "id": "44119e7d",
   "metadata": {},
   "outputs": [],
   "source": [
    "from sklearn.metrics import accuracy_score, confusion_matrix, roc_auc_score, precision_score, recall_score"
   ]
  },
  {
   "cell_type": "markdown",
   "id": "5c25a0e1",
   "metadata": {},
   "source": [
    " <text> В условиях несбалансированности классов, необходимо отслеживать метрики precision и recall</text> <br>\n",
    " <img src='https://habrastorage.org/getpro/habr/post_images/164/93b/c89/16493bc899f7275f3b5ff8d45a3ed2e2.svg'>"
   ]
  },
  {
   "cell_type": "markdown",
   "id": "54be3ffc",
   "metadata": {},
   "source": [
    "<img src='https://habrastorage.org/getpro/habr/post_images/258/4e7/8f3/2584e78f32225eade5cb8b1b4a665193.svg'>"
   ]
  },
  {
   "cell_type": "code",
   "execution_count": 179,
   "id": "3b01d5da",
   "metadata": {},
   "outputs": [],
   "source": [
    "from sklearn.linear_model import LogisticRegression"
   ]
  },
  {
   "cell_type": "code",
   "execution_count": 213,
   "id": "04c785aa",
   "metadata": {},
   "outputs": [],
   "source": [
    "classifier_Log = LogisticRegression(penalty='l2', C=1, class_weight='balanced', random_state=4838)"
   ]
  },
  {
   "cell_type": "code",
   "execution_count": 214,
   "id": "615d5c29",
   "metadata": {},
   "outputs": [
    {
     "data": {
      "text/plain": [
       "LogisticRegression(C=1, class_weight='balanced', random_state=4838)"
      ]
     },
     "execution_count": 214,
     "metadata": {},
     "output_type": "execute_result"
    }
   ],
   "source": [
    "classifier_Log.fit(transformer_X_train_s, y_train)"
   ]
  },
  {
   "cell_type": "code",
   "execution_count": 215,
   "id": "d6be5b58",
   "metadata": {},
   "outputs": [],
   "source": [
    "res_Log = classifier_Log.predict(transformer_X_test_s)"
   ]
  },
  {
   "cell_type": "code",
   "execution_count": 216,
   "id": "f8e6fe0e",
   "metadata": {},
   "outputs": [
    {
     "data": {
      "text/plain": [
       "array([[142,  99],\n",
       "       [  1,  23]], dtype=int64)"
      ]
     },
     "execution_count": 216,
     "metadata": {},
     "output_type": "execute_result"
    }
   ],
   "source": [
    "cm_Log = confusion_matrix(y_test, res_Log)\n",
    "cm_Log"
   ]
  },
  {
   "cell_type": "code",
   "execution_count": 217,
   "id": "2d412ee2",
   "metadata": {},
   "outputs": [
    {
     "data": {
      "text/plain": [
       "[0.1885245901639344, 0.9583333333333334]"
      ]
     },
     "execution_count": 217,
     "metadata": {},
     "output_type": "execute_result"
    }
   ],
   "source": [
    "prec_Log = precision_score(y_test, res_Log, average='binary')\n",
    "recall_Log = recall_score(y_test, res_Log, average='binary')\n",
    "[prec_Log, recall_Log]"
   ]
  },
  {
   "cell_type": "code",
   "execution_count": 218,
   "id": "2209d828",
   "metadata": {},
   "outputs": [
    {
     "name": "stdout",
     "output_type": "stream",
     "text": [
      "model accuracy score: 0.6226415094339622\n",
      "model AUC score: 0.7737724757952974\n",
      "model precision score: 0.1885245901639344\n",
      "model recall score: 0.9583333333333334\n"
     ]
    }
   ],
   "source": [
    "print(f'model accuracy score: {accuracy_score(y_test, res_Log)}')\n",
    "print(f'model AUC score: {roc_auc_score(y_test, res_Log)}')\n",
    "print(f'model precision score: {prec_Log}')\n",
    "print(f'model recall score: {recall_Log}')"
   ]
  },
  {
   "cell_type": "code",
   "execution_count": null,
   "id": "547e61ec",
   "metadata": {},
   "outputs": [],
   "source": []
  },
  {
   "cell_type": "markdown",
   "id": "8f035ca8",
   "metadata": {},
   "source": [
    "## Построим модель RandomForest"
   ]
  },
  {
   "cell_type": "code",
   "execution_count": 220,
   "id": "c2da7a01",
   "metadata": {},
   "outputs": [],
   "source": [
    "from sklearn.ensemble import RandomForestClassifier"
   ]
  },
  {
   "cell_type": "code",
   "execution_count": 221,
   "id": "206ff93b",
   "metadata": {},
   "outputs": [
    {
     "data": {
      "text/plain": [
       "RandomForestClassifier(class_weight='balanced', max_depth=5, n_estimators=500,\n",
       "                       random_state=4838)"
      ]
     },
     "execution_count": 221,
     "metadata": {},
     "output_type": "execute_result"
    }
   ],
   "source": [
    "classifier_RF = RandomForestClassifier(n_estimators=500, max_depth=5, random_state=4838, class_weight='balanced')\n",
    "classifier_RF.fit(transformer_X_train_s, y_train)"
   ]
  },
  {
   "cell_type": "code",
   "execution_count": 223,
   "id": "11f5d6bb",
   "metadata": {},
   "outputs": [
    {
     "data": {
      "text/plain": [
       "array([[174,  67],\n",
       "       [  4,  20]], dtype=int64)"
      ]
     },
     "execution_count": 223,
     "metadata": {},
     "output_type": "execute_result"
    }
   ],
   "source": [
    "res_RF = classifier_RF.predict(transformer_X_test_s)\n",
    "cm_RF = confusion_matrix(y_test, res_RF)\n",
    "cm_RF"
   ]
  },
  {
   "cell_type": "code",
   "execution_count": 224,
   "id": "aeadade7",
   "metadata": {},
   "outputs": [
    {
     "data": {
      "text/plain": [
       "[0.22988505747126436, 0.8333333333333334]"
      ]
     },
     "execution_count": 224,
     "metadata": {},
     "output_type": "execute_result"
    }
   ],
   "source": [
    "prec_RF = precision_score(y_test, res_RF, average='binary')\n",
    "recall_RF = recall_score(y_test, res_RF, average='binary')\n",
    "[prec_RF, recall_RF]"
   ]
  },
  {
   "cell_type": "code",
   "execution_count": 225,
   "id": "6f337cbc",
   "metadata": {},
   "outputs": [
    {
     "name": "stdout",
     "output_type": "stream",
     "text": [
      "model accuracy score: 0.7320754716981132\n",
      "model AUC score: 0.7776625172890734\n",
      "model precision score: 0.22988505747126436\n",
      "model recall score: 0.8333333333333334\n"
     ]
    }
   ],
   "source": [
    "print(f'model accuracy score: {accuracy_score(y_test, res_RF)}')\n",
    "print(f'model AUC score: {roc_auc_score(y_test, res_RF)}')\n",
    "print(f'model precision score: {prec_RF}')\n",
    "print(f'model recall score: {recall_RF}')"
   ]
  },
  {
   "cell_type": "markdown",
   "id": "b8628cf5",
   "metadata": {},
   "source": [
    "**Проведем балансировку данных**"
   ]
  },
  {
   "cell_type": "code",
   "execution_count": 226,
   "id": "332f4a1a",
   "metadata": {},
   "outputs": [],
   "source": [
    "from imblearn.over_sampling import RandomOverSampler"
   ]
  },
  {
   "cell_type": "code",
   "execution_count": 227,
   "id": "7c758573",
   "metadata": {},
   "outputs": [],
   "source": [
    "ros = RandomOverSampler(random_state=4838, sampling_strategy ='minority')"
   ]
  },
  {
   "cell_type": "code",
   "execution_count": 228,
   "id": "a507cb07",
   "metadata": {},
   "outputs": [],
   "source": [
    "X_resampled, y_resampled = ros.fit_resample(transformer_X_train_s, y_train)\n",
    "X_resampled_test, y_resampled_test = ros.fit_resample(transformer_X_test_s, y_test)"
   ]
  },
  {
   "cell_type": "markdown",
   "id": "cd5d8f7f",
   "metadata": {},
   "source": [
    "## Построим модель SVM"
   ]
  },
  {
   "cell_type": "code",
   "execution_count": 234,
   "id": "88c1b915",
   "metadata": {},
   "outputs": [],
   "source": [
    "from sklearn.svm import SVC"
   ]
  },
  {
   "cell_type": "code",
   "execution_count": 235,
   "id": "9125c96e",
   "metadata": {},
   "outputs": [],
   "source": [
    "classifier_SVC = SVC(gamma='auto', C=1.0, degree=3)"
   ]
  },
  {
   "cell_type": "code",
   "execution_count": 236,
   "id": "1d967695",
   "metadata": {},
   "outputs": [
    {
     "data": {
      "text/plain": [
       "SVC(gamma='auto')"
      ]
     },
     "execution_count": 236,
     "metadata": {},
     "output_type": "execute_result"
    }
   ],
   "source": [
    "classifier_SVC.fit(X_resampled, y_resampled)"
   ]
  },
  {
   "cell_type": "code",
   "execution_count": 237,
   "id": "d9655b36",
   "metadata": {},
   "outputs": [],
   "source": [
    "res_SVC = classifier_SVC.predict(X_resampled_test)"
   ]
  },
  {
   "cell_type": "code",
   "execution_count": 238,
   "id": "7a3a0266",
   "metadata": {},
   "outputs": [
    {
     "data": {
      "text/plain": [
       "array([[146,  95],\n",
       "       [ 20, 221]], dtype=int64)"
      ]
     },
     "execution_count": 238,
     "metadata": {},
     "output_type": "execute_result"
    }
   ],
   "source": [
    "cm_SVC = confusion_matrix(y_resampled_test, res_SVC)\n",
    "cm_SVC"
   ]
  },
  {
   "cell_type": "code",
   "execution_count": 239,
   "id": "235b9466",
   "metadata": {},
   "outputs": [
    {
     "data": {
      "text/plain": [
       "[0.6993670886075949, 0.91701244813278]"
      ]
     },
     "execution_count": 239,
     "metadata": {},
     "output_type": "execute_result"
    }
   ],
   "source": [
    "prec_SVC = precision_score(y_resampled_test, res_SVC, average='binary')\n",
    "recall_SVC = recall_score(y_resampled_test, res_SVC, average='binary')\n",
    "[prec_SVC, recall_SVC]"
   ]
  },
  {
   "cell_type": "code",
   "execution_count": 240,
   "id": "f1f1cd8e",
   "metadata": {},
   "outputs": [
    {
     "name": "stdout",
     "output_type": "stream",
     "text": [
      "model accuracy score: 0.7614107883817427\n",
      "model AUC score: 0.7614107883817427\n",
      "model precision score: 0.6993670886075949\n",
      "model recall score: 0.91701244813278\n"
     ]
    }
   ],
   "source": [
    "print(f'model accuracy score: {accuracy_score(y_resampled_test, res_SVC)}')\n",
    "print(f'model AUC score: {roc_auc_score(y_resampled_test, res_SVC)}')\n",
    "print(f'model precision score: {prec_SVC}')\n",
    "print(f'model recall score: {recall_SVC}')"
   ]
  },
  {
   "cell_type": "code",
   "execution_count": 268,
   "id": "29f9b1d1",
   "metadata": {},
   "outputs": [
    {
     "name": "stdout",
     "output_type": "stream",
     "text": [
      "Evaluation SVC:\n",
      "               precision    recall  f1-score   support\n",
      "\n",
      "           0       0.88      0.61      0.72       241\n",
      "           1       0.70      0.92      0.79       241\n",
      "\n",
      "    accuracy                           0.76       482\n",
      "   macro avg       0.79      0.76      0.76       482\n",
      "weighted avg       0.79      0.76      0.76       482\n",
      "\n"
     ]
    }
   ],
   "source": [
    "print('Evaluation SVC:\\n', classification_report(y_resampled_test, res_SVC))"
   ]
  },
  {
   "cell_type": "markdown",
   "id": "b3ac53ec",
   "metadata": {},
   "source": [
    "## Построим модель Random forest"
   ]
  },
  {
   "cell_type": "code",
   "execution_count": 241,
   "id": "78ff3a66",
   "metadata": {},
   "outputs": [],
   "source": [
    "classifier_RF = RandomForestClassifier(n_estimators=500, max_depth=3, random_state=4838)"
   ]
  },
  {
   "cell_type": "code",
   "execution_count": 242,
   "id": "23cbd86e",
   "metadata": {},
   "outputs": [
    {
     "data": {
      "text/plain": [
       "RandomForestClassifier(max_depth=3, n_estimators=500, random_state=4838)"
      ]
     },
     "execution_count": 242,
     "metadata": {},
     "output_type": "execute_result"
    }
   ],
   "source": [
    "classifier_RF.fit(X_resampled, y_resampled)"
   ]
  },
  {
   "cell_type": "code",
   "execution_count": 243,
   "id": "6cd7d4bc",
   "metadata": {},
   "outputs": [
    {
     "data": {
      "text/plain": [
       "array([[160,  81],\n",
       "       [ 34, 207]], dtype=int64)"
      ]
     },
     "execution_count": 243,
     "metadata": {},
     "output_type": "execute_result"
    }
   ],
   "source": [
    "res_RF = classifier_RF.predict(X_resampled_test)\n",
    "cm_RF = confusion_matrix(y_resampled_test, res_RF)\n",
    "cm_RF"
   ]
  },
  {
   "cell_type": "code",
   "execution_count": 244,
   "id": "fc4d9acc",
   "metadata": {},
   "outputs": [
    {
     "data": {
      "text/plain": [
       "[0.71875, 0.8589211618257261]"
      ]
     },
     "execution_count": 244,
     "metadata": {},
     "output_type": "execute_result"
    }
   ],
   "source": [
    "prec_RF = precision_score(y_resampled_test, res_RF, average='binary')\n",
    "recall_RF = recall_score(y_resampled_test, res_RF, average='binary')\n",
    "[prec_RF, recall_RF]"
   ]
  },
  {
   "cell_type": "code",
   "execution_count": 245,
   "id": "81ca27f1",
   "metadata": {},
   "outputs": [
    {
     "name": "stdout",
     "output_type": "stream",
     "text": [
      "model accuracy score: 0.7614107883817427\n",
      "model AUC score: 0.7614107883817428\n",
      "model precision score: 0.71875\n",
      "model recall score: 0.8589211618257261\n"
     ]
    }
   ],
   "source": [
    "print(f'model accuracy score: {accuracy_score(y_resampled_test, res_RF)}')\n",
    "print(f'model AUC score: {roc_auc_score(y_resampled_test, res_RF)}')\n",
    "print(f'model precision score: {prec_RF}')\n",
    "print(f'model recall score: {recall_RF}')"
   ]
  },
  {
   "cell_type": "code",
   "execution_count": 267,
   "id": "bac673df",
   "metadata": {},
   "outputs": [
    {
     "name": "stdout",
     "output_type": "stream",
     "text": [
      "Evaluation RF:\n",
      "               precision    recall  f1-score   support\n",
      "\n",
      "           0       0.82      0.66      0.74       241\n",
      "           1       0.72      0.86      0.78       241\n",
      "\n",
      "    accuracy                           0.76       482\n",
      "   macro avg       0.77      0.76      0.76       482\n",
      "weighted avg       0.77      0.76      0.76       482\n",
      "\n"
     ]
    }
   ],
   "source": [
    "print('Evaluation RF:\\n', classification_report(y_resampled_test, res_RF))"
   ]
  },
  {
   "cell_type": "markdown",
   "id": "6ce40982",
   "metadata": {},
   "source": [
    "## Построим модель Logistic regression"
   ]
  },
  {
   "cell_type": "code",
   "execution_count": 248,
   "id": "5a74dc9a",
   "metadata": {},
   "outputs": [],
   "source": [
    "classifier_Log = LogisticRegression(penalty='l2', C=1, class_weight='balanced', random_state=4838)"
   ]
  },
  {
   "cell_type": "code",
   "execution_count": 253,
   "id": "a706c599",
   "metadata": {},
   "outputs": [
    {
     "data": {
      "text/plain": [
       "LogisticRegression(C=1, class_weight='balanced', random_state=4838)"
      ]
     },
     "execution_count": 253,
     "metadata": {},
     "output_type": "execute_result"
    }
   ],
   "source": [
    "classifier_Log.fit(X_resampled, y_resampled)"
   ]
  },
  {
   "cell_type": "code",
   "execution_count": 254,
   "id": "22955486",
   "metadata": {},
   "outputs": [],
   "source": [
    "res_Log = classifier_Log.predict(X_resampled_test)"
   ]
  },
  {
   "cell_type": "code",
   "execution_count": 256,
   "id": "15b2672b",
   "metadata": {},
   "outputs": [
    {
     "data": {
      "text/plain": [
       "array([[142,  99],\n",
       "       [  9, 232]], dtype=int64)"
      ]
     },
     "execution_count": 256,
     "metadata": {},
     "output_type": "execute_result"
    }
   ],
   "source": [
    "cm_Log = confusion_matrix(y_resampled_test, res_Log)\n",
    "cm_Log"
   ]
  },
  {
   "cell_type": "code",
   "execution_count": 257,
   "id": "fc6b0994",
   "metadata": {},
   "outputs": [
    {
     "data": {
      "text/plain": [
       "[0.7009063444108762, 0.9626556016597511]"
      ]
     },
     "execution_count": 257,
     "metadata": {},
     "output_type": "execute_result"
    }
   ],
   "source": [
    "prec_Log = precision_score(y_resampled_test, res_Log, average='binary')\n",
    "recall_Log = recall_score(y_resampled_test, res_Log, average='binary')\n",
    "[prec_Log, recall_Log]"
   ]
  },
  {
   "cell_type": "code",
   "execution_count": 258,
   "id": "4ba2dc98",
   "metadata": {},
   "outputs": [
    {
     "name": "stdout",
     "output_type": "stream",
     "text": [
      "model accuracy score: 0.7759336099585062\n",
      "model AUC score: 0.7759336099585064\n",
      "model precision score: 0.7009063444108762\n",
      "model recall score: 0.9626556016597511\n"
     ]
    }
   ],
   "source": [
    "print(f'model accuracy score: {accuracy_score(y_resampled_test, res_Log)}')\n",
    "print(f'model AUC score: {roc_auc_score(y_resampled_test, res_Log)}')\n",
    "print(f'model precision score: {prec_Log}')\n",
    "print(f'model recall score: {recall_Log}')"
   ]
  },
  {
   "cell_type": "code",
   "execution_count": 260,
   "id": "f202f911",
   "metadata": {},
   "outputs": [],
   "source": [
    " from sklearn.metrics import classification_report"
   ]
  },
  {
   "cell_type": "code",
   "execution_count": 266,
   "id": "a363a596",
   "metadata": {},
   "outputs": [
    {
     "name": "stdout",
     "output_type": "stream",
     "text": [
      "Evaluation Log):\n",
      "               precision    recall  f1-score   support\n",
      "\n",
      "           0       0.94      0.59      0.72       241\n",
      "           1       0.70      0.96      0.81       241\n",
      "\n",
      "    accuracy                           0.78       482\n",
      "   macro avg       0.82      0.78      0.77       482\n",
      "weighted avg       0.82      0.78      0.77       482\n",
      "\n"
     ]
    }
   ],
   "source": [
    "print('Evaluation Log):\\n', classification_report(y_resampled_test, res_Log))"
   ]
  },
  {
   "cell_type": "markdown",
   "id": "e5a44e57",
   "metadata": {},
   "source": [
    "## Выводы"
   ]
  },
  {
   "cell_type": "markdown",
   "id": "e33dce07",
   "metadata": {},
   "source": [
    "1. Можно с уверенностью сказать, что мало данных. При их балансировки, искусственное увеличение данных, заметно повышает качество модели.\n",
    "2. Не плохие результаты показали все три модели (логистическая регрессия, случайный лес и метод опорных векторов). Затрудняюсь сделать твердый выбор, но предпочтение отдал бы случайному лесу, так как метрика precision для класса \"1 - инсульт\" выше всех остальных моделей.\n",
    "3. Стоит отметить, что для обучения модели использовались все признаки, кроме *work_type и gender*. *Gender* был отброшен так как данные показали, что большого отличия мужчины от женщины данные не имеют. *Work_type* обязан влиять на вероятность инсульта, но в том виде в котором он представлен его нельзя использовать.\n"
   ]
  }
 ],
 "metadata": {
  "kernelspec": {
   "display_name": "Python 3 (ipykernel)",
   "language": "python",
   "name": "python3"
  },
  "language_info": {
   "codemirror_mode": {
    "name": "ipython",
    "version": 3
   },
   "file_extension": ".py",
   "mimetype": "text/x-python",
   "name": "python",
   "nbconvert_exporter": "python",
   "pygments_lexer": "ipython3",
   "version": "3.7.3"
  }
 },
 "nbformat": 4,
 "nbformat_minor": 5
}
